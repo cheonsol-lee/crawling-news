{
 "cells": [
  {
   "cell_type": "markdown",
   "metadata": {},
   "source": [
    "# Crawling(news)"
   ]
  },
  {
   "cell_type": "markdown",
   "metadata": {},
   "source": [
    "## Import"
   ]
  },
  {
   "cell_type": "code",
   "execution_count": 89,
   "metadata": {},
   "outputs": [],
   "source": [
    "import requests\n",
    "from bs4 import BeautifulSoup\n",
    "import re\n",
    "import os"
   ]
  },
  {
   "cell_type": "markdown",
   "metadata": {},
   "source": [
    "## Function"
   ]
  },
  {
   "cell_type": "code",
   "execution_count": 90,
   "metadata": {},
   "outputs": [],
   "source": [
    "def file_save(directory, title, contents):\n",
    "  # 디렉토리가 없으면 생성  \n",
    "    try:\n",
    "        if not os.path.isdir(directory):\n",
    "            os.makedirs(os.path.join(directory))\n",
    "            print(directory +\" directory is generated.\")\n",
    "    except OSError as e:\n",
    "        if e.errno != errno.EEXIST:\n",
    "            print(\"Failed to create directory!!!!!\")\n",
    "            raise\n",
    "            \n",
    "    with open(\"./\"+ directory + \"/\"+ title +\".txt\", 'w', encoding='utf-8-sig') as f:\n",
    "        f.write(contents)\n",
    "\n",
    "def Crawling(item, news, html, language):\n",
    "    soup = BeautifulSoup(html, 'html.parser')\n",
    "    \n",
    "    # 뉴스 종류에 따라 다르게 크롤링\n",
    "    if(news == \"CNN\"):\n",
    "        title = soup.select('h1.pg-headline')[0].text\n",
    "        contents = soup.select('#body-text')[0].text\n",
    "        \n",
    "\n",
    "    if(news == \"BBC\"):\n",
    "        title = soup.select('h1.story-body__h1')[0].text\n",
    "        contents = soup.select(\"div.story-body__inner\")[0].text\n",
    "        \n",
    "        \n",
    "    if(news == \"CTV\"):\n",
    "        title = soup.select('h1.articleHeadline')[0].text\n",
    "        contents = soup.select(\"div.articleBody\")[0].text\n",
    "        contents = contents.replace('\\n', '').replace('\\t','').replace('\\\\','')\n",
    "        \n",
    "        \n",
    "    if(news == \"WIKI\"):\n",
    "        title = soup.select('h1#firstHeading')[0].text\n",
    "        contents = soup.select('div#bodyContent')[0].text.replace('\\n','')\n",
    "\n",
    "        \n",
    "    if(news == \"NAVER\"):\n",
    "        title = soup.select(\"h3#articleTitle\")[0].text\n",
    "        contents = soup.select(\"div#articleBodyContents\")[0].text.strip()\n",
    "        \n",
    "    # 제목 특수기호 제거    \n",
    "    title = title.rstrip('?/')\n",
    "    title = re.sub('\\?|\\!|\\/|\\;|\\:', '', title)\n",
    "\n",
    "    # 디렉토리 경로 설정\n",
    "    directory = language + \"/\" + item + \"/\" + news\n",
    "    \n",
    "    # 파일 저장\n",
    "    file_save(directory, title, contents)\n",
    "    print(directory + \"/\" + title + \".txt 저장완료\")"
   ]
  },
  {
   "cell_type": "markdown",
   "metadata": {},
   "source": [
    "## Run"
   ]
  },
  {
   "cell_type": "markdown",
   "metadata": {},
   "source": [
    "* language, item, news를 입력하면 xx/xx/xx.txt 형태의 파일이 생성된다.\n",
    "* url에 해당 기사의 url을 입력한다."
   ]
  },
  {
   "cell_type": "code",
   "execution_count": 91,
   "metadata": {},
   "outputs": [],
   "source": [
    "language = 'Korean'\n",
    "item = 'hemp'\n",
    "news = 'WIKI'\n",
    "\n",
    "url = \"https://ko.wikipedia.org/wiki/%EC%82%BC_(%EC%8B%9D%EB%AC%BC)\"\n",
    "req = requests.get(url)\n",
    "html = req.text"
   ]
  },
  {
   "cell_type": "code",
   "execution_count": 92,
   "metadata": {},
   "outputs": [
    {
     "name": "stdout",
     "output_type": "stream",
     "text": [
      "Korean/hemp/WIKI/삼 (식물).txt 저장완료\n"
     ]
    }
   ],
   "source": [
    "Crawling(item, news, html, language)"
   ]
  },
  {
   "cell_type": "code",
   "execution_count": null,
   "metadata": {},
   "outputs": [],
   "source": []
  }
 ],
 "metadata": {
  "kernelspec": {
   "display_name": "Python 3",
   "language": "python",
   "name": "python3"
  },
  "language_info": {
   "codemirror_mode": {
    "name": "ipython",
    "version": 3
   },
   "file_extension": ".py",
   "mimetype": "text/x-python",
   "name": "python",
   "nbconvert_exporter": "python",
   "pygments_lexer": "ipython3",
   "version": "3.6.10"
  }
 },
 "nbformat": 4,
 "nbformat_minor": 4
}
